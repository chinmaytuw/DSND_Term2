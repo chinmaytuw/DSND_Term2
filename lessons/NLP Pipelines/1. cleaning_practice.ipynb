{
 "cells": [
  {
   "cell_type": "markdown",
   "metadata": {
    "toc": true
   },
   "source": [
    "<h1>Table of Contents<span class=\"tocSkip\"></span></h1>\n",
    "<div class=\"toc\"><ul class=\"toc-item\"><li><span><a href=\"#Cleaning-Quiz:-Udacity's-Course-Catalog\" data-toc-modified-id=\"Cleaning-Quiz:-Udacity's-Course-Catalog-1\"><span class=\"toc-item-num\">1&nbsp;&nbsp;</span>Cleaning Quiz: Udacity's Course Catalog</a></span></li><li><span><a href=\"#Step-1:-Get-text-from-Udacity's-course-catalog-web-page\" data-toc-modified-id=\"Step-1:-Get-text-from-Udacity's-course-catalog-web-page-2\"><span class=\"toc-item-num\">2&nbsp;&nbsp;</span>Step 1: Get text from Udacity's course catalog web page</a></span></li><li><span><a href=\"#Step-2:-Use-BeautifulSoup-to-remove-HTML-tags\" data-toc-modified-id=\"Step-2:-Use-BeautifulSoup-to-remove-HTML-tags-3\"><span class=\"toc-item-num\">3&nbsp;&nbsp;</span>Step 2: Use BeautifulSoup to remove HTML tags</a></span></li><li><span><a href=\"#Step-3:-Find-all-course-summaries\" data-toc-modified-id=\"Step-3:-Find-all-course-summaries-4\"><span class=\"toc-item-num\">4&nbsp;&nbsp;</span>Step 3: Find all course summaries</a></span></li><li><span><a href=\"#Step-4:-Inspect-the-first-summary-to-find-selectors-for-the-course-name-and-school\" data-toc-modified-id=\"Step-4:-Inspect-the-first-summary-to-find-selectors-for-the-course-name-and-school-5\"><span class=\"toc-item-num\">5&nbsp;&nbsp;</span>Step 4: Inspect the first summary to find selectors for the course name and school</a></span></li><li><span><a href=\"#Step-5:-Collect-names-and-schools-of-ALL-course-listings\" data-toc-modified-id=\"Step-5:-Collect-names-and-schools-of-ALL-course-listings-6\"><span class=\"toc-item-num\">6&nbsp;&nbsp;</span>Step 5: Collect names and schools of ALL course listings</a></span></li></ul></div>"
   ]
  },
  {
   "cell_type": "markdown",
   "metadata": {},
   "source": [
    "# Cleaning Quiz: Udacity's Course Catalog\n",
    "It's your turn! Udacity's [course catalog page](https://www.udacity.com/courses/all) has changed since the last video was filmed. One notable change is the introduction of  _schools_.\n",
    "\n",
    "In this activity, you're going to perform similar actions with BeautifulSoup to extract the following information from each course listing on the page:\n",
    "1. The course name - e.g. \"Data Analyst\"\n",
    "2. The school the course belongs to - e.g. \"School of Data Science\"\n",
    "\n",
    "**Note: All solution notebooks can be found by clicking on the Jupyter icon on the top left of this workspace.**"
   ]
  },
  {
   "cell_type": "markdown",
   "metadata": {},
   "source": [
    "# Step 1: Get text from Udacity's course catalog web page\n",
    "You can use the `requests` library to do this.\n",
    "\n",
    "Outputting all the javascript, CSS, and text may overload the space available to load this notebook, so we omit a print statement here."
   ]
  },
  {
   "cell_type": "code",
   "execution_count": 4,
   "metadata": {},
   "outputs": [],
   "source": [
    "# import statements\n",
    "import requests\n",
    "from bs4 import BeautifulSoup"
   ]
  },
  {
   "cell_type": "code",
   "execution_count": 5,
   "metadata": {},
   "outputs": [],
   "source": [
    "# fetch web page\n",
    "r = requests.get(\"https://www.udacity.com/courses/all\")"
   ]
  },
  {
   "cell_type": "markdown",
   "metadata": {},
   "source": [
    "# Step 2: Use BeautifulSoup to remove HTML tags\n",
    "Use `\"lxml\"` rather than `\"html5lib\"`.\n",
    "\n",
    "Again, printing this entire result may overload the space available to load this notebook, so we omit a print statement here."
   ]
  },
  {
   "cell_type": "code",
   "execution_count": 6,
   "metadata": {},
   "outputs": [],
   "source": [
    "soup = BeautifulSoup(r.text, \"lxml\")"
   ]
  },
  {
   "cell_type": "markdown",
   "metadata": {},
   "source": [
    "# Step 3: Find all course summaries\n",
    "Use the BeautifulSoup's `find_all` method to select based on tag type and class name. Just like in the video, you can right click on the item, and click \"Inspect\" to view its html on a web page."
   ]
  },
  {
   "cell_type": "code",
   "execution_count": 7,
   "metadata": {},
   "outputs": [
    {
     "name": "stdout",
     "output_type": "stream",
     "text": [
      "Number of Courses: 247\n"
     ]
    }
   ],
   "source": [
    "# Find all course summaries\n",
    "summaries = soup.find_all(\"div\", {\"class\":\"catalog-component__card\"})\n",
    "print('Number of Courses:', len(summaries))"
   ]
  },
  {
   "cell_type": "code",
   "execution_count": 8,
   "metadata": {},
   "outputs": [
    {
     "data": {
      "text/plain": [
       "<div class=\"catalog-component__card\"><a aria-label=\"Data Analyst\" class=\"card__top\" href=\"/course/data-analyst-nanodegree--nd002\"><div class=\"card__image-container\"><div class=\"card__image-wrapper\"><div class=\"card__image-overlay\" data-catalogtype=\"nanodegree\"></div><div class=\"card__image\" style=\"background-image:url(data:image/png;base64,iVBORw0KGgoAAAANSUhEUgAAAAEAAAABAQMAAAAl21bKAAAAA1BMVEVMaXFNx9g6AAAAAXRSTlMAQObYZgAAAApJREFUeNpjYAAAAAIAAeUn3vwAAAAASUVORK5CYII)\"></div></div></div><div class=\"card__title-container\"><h3 class=\"card__title__school greyed\">School of Data Science</h3><h2 class=\"card__title__nd-name\">Data Analyst</h2></div><div class=\"card__text-content\"><section><h4 class=\"text-content__text greyed\">Skills Covered</h4><p class=\"text-content__text\">Data Wrangling, Matplotlib, Bootstrapping, Pandas &amp; NumPy, Statistics</p></section><section><h4 class=\"text-content__text greyed\">In Collaboration With</h4><p class=\"text-content__text\">Kaggle</p></section></div></a><div class=\"card__bottom\"><button aria-controls=\"nd002-expandable-content\" aria-expanded=\"false\" class=\"card__bottom__button\">Program Details</button><div class=\"difficulty\"><div aria-label=\"intermediate level\" data-level=\"intermediate\"></div><small aria-hidden=\"true\">intermediate</small></div></div></div>"
      ]
     },
     "execution_count": 8,
     "metadata": {},
     "output_type": "execute_result"
    }
   ],
   "source": [
    "summaries[1]"
   ]
  },
  {
   "cell_type": "markdown",
   "metadata": {},
   "source": [
    "# Step 4: Inspect the first summary to find selectors for the course name and school\n",
    "Tip: `.prettify()` is a super helpful method BeautifulSoup provides to output html in a nicely indented form! Make sure to use `print()` to ensure whitespace is displayed properly."
   ]
  },
  {
   "cell_type": "code",
   "execution_count": 9,
   "metadata": {
    "scrolled": true
   },
   "outputs": [
    {
     "name": "stdout",
     "output_type": "stream",
     "text": [
      "<div class=\"catalog-component__card\">\n",
      " <span class=\"catalog-card-tag--mobile\">\n",
      "  New Program!\n",
      " </span>\n",
      " <a aria-label=\"Data Engineer\" class=\"card__top\" href=\"/course/data-engineer-nanodegree--nd027\">\n",
      "  <div class=\"card__image-container\">\n",
      "   <div class=\"card__image-wrapper\">\n",
      "    <div class=\"card__image-overlay\" data-catalogtype=\"nanodegree\">\n",
      "    </div>\n",
      "    <div class=\"card__image\" style=\"background-image:url(data:image/png;base64,iVBORw0KGgoAAAANSUhEUgAAAAEAAAABAQMAAAAl21bKAAAAA1BMVEVMaXFNx9g6AAAAAXRSTlMAQObYZgAAAApJREFUeNpjYAAAAAIAAeUn3vwAAAAASUVORK5CYII)\">\n",
      "    </div>\n",
      "   </div>\n",
      "  </div>\n",
      "  <div class=\"card__title-container\">\n",
      "   <span class=\"catalog-card-tag--desktop\">\n",
      "    New\n",
      "   </span>\n",
      "   <h3 class=\"card__title__school greyed\">\n",
      "    School of Data Science\n",
      "   </h3>\n",
      "   <h2 class=\"card__title__nd-name\">\n",
      "    Data Engineer\n",
      "   </h2>\n",
      "  </div>\n",
      "  <div class=\"card__text-content\">\n",
      "   <section>\n",
      "    <h4 class=\"text-content__text greyed\">\n",
      "     Skills Covered\n",
      "    </h4>\n",
      "    <p class=\"text-content__text\">\n",
      "     Data Modeling, Data Pipelines, Data Lakes, Spark, Airflow\n",
      "    </p>\n",
      "   </section>\n",
      "   <section>\n",
      "    <h4 class=\"text-content__text greyed\">\n",
      "     In Collaboration With\n",
      "    </h4>\n",
      "    <p class=\"text-content__text\">\n",
      "     Insight\n",
      "    </p>\n",
      "   </section>\n",
      "  </div>\n",
      " </a>\n",
      " <div class=\"card__bottom\">\n",
      "  <button aria-controls=\"nd027-expandable-content\" aria-expanded=\"false\" class=\"card__bottom__button\">\n",
      "   Program Details\n",
      "  </button>\n",
      "  <div class=\"difficulty\">\n",
      "   <div aria-label=\"intermediate level\" data-level=\"intermediate\">\n",
      "   </div>\n",
      "   <small aria-hidden=\"true\">\n",
      "    intermediate\n",
      "   </small>\n",
      "  </div>\n",
      " </div>\n",
      "</div>\n",
      "\n"
     ]
    }
   ],
   "source": [
    "# print the first summary in summaries\n",
    "print(summaries[0].prettify())"
   ]
  },
  {
   "cell_type": "markdown",
   "metadata": {},
   "source": [
    "Look for selectors that contain the courses title and school name text you want to extract. Then, use the `select_one` method on the summary object to pull out the html with those selectors. Afterwards, don't forget to do some extra cleaning to isolate the names (get rid of unnecessary html), as you saw in the last video."
   ]
  },
  {
   "cell_type": "code",
   "execution_count": 10,
   "metadata": {},
   "outputs": [
    {
     "data": {
      "text/plain": [
       "'Data Engineer'"
      ]
     },
     "execution_count": 10,
     "metadata": {},
     "output_type": "execute_result"
    }
   ],
   "source": [
    "# Extract course title\n",
    "summaries[0].select_one(\"h2\").get_text().strip()"
   ]
  },
  {
   "cell_type": "code",
   "execution_count": 11,
   "metadata": {},
   "outputs": [
    {
     "data": {
      "text/plain": [
       "'School of Data Science'"
      ]
     },
     "execution_count": 11,
     "metadata": {},
     "output_type": "execute_result"
    }
   ],
   "source": [
    "# Extract school\n",
    "summaries[0].select_one(\"h3\").get_text().strip()"
   ]
  },
  {
   "cell_type": "markdown",
   "metadata": {},
   "source": [
    "# Step 5: Collect names and schools of ALL course listings\n",
    "Reuse your code from the previous step, but now in a loop to extract the name and school from every course summary in `summaries`!"
   ]
  },
  {
   "cell_type": "code",
   "execution_count": 12,
   "metadata": {
    "scrolled": true
   },
   "outputs": [
    {
     "data": {
      "text/plain": [
       "[['Data Engineer', 'School of Data Science'],\n",
       " ['Data Analyst', 'School of Data Science'],\n",
       " ['Introduction to Programming', 'School of Programming & Development'],\n",
       " ['Deep Learning', 'School of Artificial Intelligence'],\n",
       " ['Full Stack Web Developer', 'School of Programming & Development'],\n",
       " ['UX Designer', 'School of Business'],\n",
       " ['Data Scientist', 'School of Data Science'],\n",
       " ['Business Analytics', 'School of Business'],\n",
       " ['Self Driving Car Engineer', 'School of Autonomous Systems'],\n",
       " ['Programming for Data Science with Python', 'School of Data Science'],\n",
       " ['Machine Learning Engineer', 'School of Artificial Intelligence'],\n",
       " ['C++', 'School of Autonomous Systems'],\n",
       " ['Digital Marketing', 'School of Business'],\n",
       " ['SQL', 'School of Data Science'],\n",
       " ['AI Programming with Python', 'School of Artificial Intelligence'],\n",
       " ['Front End Web Developer', 'School of Programming & Development'],\n",
       " ['AI Product Manager', 'School of Artificial Intelligence'],\n",
       " ['Cloud DevOps Engineer', 'School of Cloud Computing'],\n",
       " ['Artificial Intelligence for Trading', 'School of Artificial Intelligence'],\n",
       " ['DevOps Engineer for Microsoft Azure', 'School of Cloud Computing'],\n",
       " ['Cloud Developer', 'School of Cloud Computing'],\n",
       " ['Computer Vision', 'School of Artificial Intelligence'],\n",
       " ['Deep Reinforcement Learning', 'School of Artificial Intelligence'],\n",
       " ['AWS Cloud Architect', 'School of Cloud Computing'],\n",
       " ['Intro to Machine Learning with PyTorch',\n",
       "  'School of Artificial Intelligence'],\n",
       " ['Monetization Strategy', 'School of Business'],\n",
       " ['Intro to Self-Driving Cars', 'School of Autonomous Systems'],\n",
       " ['iOS Developer', 'School of Programming & Development'],\n",
       " ['AI for Healthcare', 'School of Artificial Intelligence'],\n",
       " ['Intro to Machine Learning with TensorFlow',\n",
       "  'School of Artificial Intelligence'],\n",
       " ['Android Basics', 'School of Programming & Development'],\n",
       " ['Introduction to Cybersecurity', 'School of Programming & Development'],\n",
       " ['React', 'School of Programming & Development'],\n",
       " ['Natural Language Processing', 'School of Artificial Intelligence'],\n",
       " ['Marketing Analytics', 'School of Business'],\n",
       " ['Blockchain Developer', 'School of Programming & Development'],\n",
       " ['Java Developer', 'School of Programming & Development'],\n",
       " ['Flying Car and Autonomous Flight Engineer', 'School of Autonomous Systems'],\n",
       " ['Artificial Intelligence', 'School of Artificial Intelligence'],\n",
       " ['Data Visualization', 'School of Data Science'],\n",
       " ['Robotics Software Engineer', 'School of Autonomous Systems'],\n",
       " ['Growth Product Manager', 'School of Business'],\n",
       " ['Data Product Manager', 'School of Business'],\n",
       " ['Data Structures and Algorithms', 'School of Programming & Development'],\n",
       " ['AI for Business Leaders', 'School of Business'],\n",
       " ['Data Science for Business Leaders', 'School of Business'],\n",
       " ['Intermediate JavaScript', 'School of Programming & Development'],\n",
       " ['Programming for Data Science with R', 'School of Data Science'],\n",
       " ['Product Manager', 'School of Business'],\n",
       " ['Sensor Fusion Engineer', 'School of Autonomous Systems'],\n",
       " ['IntelÂ® Edge AI for IoT Developers', 'School of Artificial Intelligence'],\n",
       " ['Data Streaming', 'School of Data Science'],\n",
       " ['Android Kotlin Developer', 'School of Programming & Development'],\n",
       " ['Hybrid Cloud Engineer', 'School of Cloud Computing'],\n",
       " ['Machine Learning Engineer for Microsoft Azure',\n",
       "  'School of Artificial Intelligence'],\n",
       " ['Developer for Microsoft Azure', 'School of Cloud Computing'],\n",
       " ['RPA Developer with UiPath', 'School of Programming & Development'],\n",
       " ['Agile Software Development', 'School of Business'],\n",
       " ['Predictive Analytics For Business', 'School of Business'],\n",
       " ['Microsoft Power Platform', 'School of Programming & Development'],\n",
       " ['Hybrid Cloud Fundamentals', 'School of Cloud Computing'],\n",
       " ['Intro to Cloud Computing', 'School of Cloud Computing'],\n",
       " ['Cyber-Physical Systems Design & Analysis', 'School of Autonomous Systems'],\n",
       " ['Web Tooling & Automation', 'School of Programming & Development'],\n",
       " ['Rapid Prototyping', 'School of Business'],\n",
       " ['Front End Frameworks', 'School of Programming & Development'],\n",
       " ['Responsive Web Design Fundamentals', 'School of Programming & Development'],\n",
       " ['Linux Command Line Basics', 'School of Programming & Development'],\n",
       " ['How to Install Android Studio', 'School of Programming & Development'],\n",
       " ['Creating an Analytical Dataset', 'School of Business'],\n",
       " ['Android Basics: Multiscreen Apps', 'School of Programming & Development'],\n",
       " ['Problem Solving with Advanced Analytics', 'School of Business'],\n",
       " ['Website Performance Optimization', 'School of Programming & Development'],\n",
       " ['iOS Networking with Swift', 'School of Programming & Development'],\n",
       " ['Linear Algebra Refresher Course', 'School of Artificial Intelligence'],\n",
       " ['JavaScript Design Patterns', 'School of Programming & Development'],\n",
       " ['Classification Models', 'School of Business'],\n",
       " ['Product Design', 'School of Business'],\n",
       " ['Android Basics: User Input', 'School of Programming & Development'],\n",
       " ['Android Performance', 'School of Programming & Development'],\n",
       " ['Machine Learning: Unsupervised Learning',\n",
       "  'School of Artificial Intelligence'],\n",
       " ['Segmentation and Clustering', 'School of Business'],\n",
       " ['Responsive Images', 'School of Programming & Development'],\n",
       " ['Xcode Debugging', 'School of Programming & Development'],\n",
       " ['Gradle for Android and Java', 'School of Programming & Development'],\n",
       " ['Build Native Mobile Apps with Flutter',\n",
       "  'School of Programming & Development'],\n",
       " ['JavaScript Promises', 'School of Programming & Development'],\n",
       " ['UIKit Fundamentals', 'School of Programming & Development'],\n",
       " ['Time Series Forecasting', 'School of Business'],\n",
       " ['App Marketing', 'School of Business'],\n",
       " ['Android Basics: User Interface', 'School of Programming & Development'],\n",
       " ['Client-Server Communication', 'School of Programming & Development'],\n",
       " ['What is Programming?', 'School of Programming & Development'],\n",
       " ['Building High Conversion Web Forms', 'School of Programming & Development'],\n",
       " ['Big Data Analytics in Healthcare', 'School of Artificial Intelligence'],\n",
       " ['Advanced Android App Development', 'School of Programming & Development'],\n",
       " ['Software Architecture & Design', 'School of Programming & Development'],\n",
       " ['App Monetization', 'School of Business'],\n",
       " ['Intro to Information Security', 'School of Programming & Development'],\n",
       " ['Craft Your Cover Letter', 'Career Advancement'],\n",
       " ['Authentication & Authorization: OAuth',\n",
       "  'School of Programming & Development'],\n",
       " ['Intro to iOS App Development with Swift',\n",
       "  'School of Programming & Development'],\n",
       " ['Intro to Descriptive Statistics', 'School of Artificial Intelligence'],\n",
       " ['Data Science Interview Prep', 'Career Advancement'],\n",
       " ['Introduction to Operating Systems', 'School of Programming & Development'],\n",
       " ['Android Basics: Networking', 'School of Programming & Development'],\n",
       " ['Web Accessibility', 'School of Programming & Development'],\n",
       " ['Android Basics: Data Storage', 'School of Programming & Development'],\n",
       " ['Scalable Microservices with Kubernetes',\n",
       "  'School of Programming & Development'],\n",
       " ['IntelÂ® Edge AI Fundamentals with OpenVINOâ\\x84¢',\n",
       "  'School of Artificial Intelligence'],\n",
       " ['Developing Android Apps with Kotlin',\n",
       "  'School of Programming & Development'],\n",
       " ['Artificial Intelligence', 'School of Artificial Intelligence'],\n",
       " ['Browser Rendering Optimization', 'School of Programming & Development'],\n",
       " ['Learn Swift Programming Syntax', 'School of Programming & Development'],\n",
       " ['Offline Web Applications', 'School of Programming & Development'],\n",
       " ['Kotlin for Android Developers', 'School of Programming & Development'],\n",
       " ['UX Design for Mobile Developers', 'School of Programming & Development'],\n",
       " ['Secure and Private AI', 'School of Artificial Intelligence'],\n",
       " ['Model Building and Validation', 'School of Artificial Intelligence'],\n",
       " ['Intro to Data Science', 'School of Data Science'],\n",
       " ['Software Development Process', 'School of Programming & Development'],\n",
       " ['Data Visualization in Tableau', 'School of Programming & Development'],\n",
       " ['Data Visualization and D3.js', 'School of Artificial Intelligence'],\n",
       " ['Intro to Progressive Web Apps', 'School of Programming & Development'],\n",
       " ['Writing READMEs', 'School of Programming & Development'],\n",
       " ['Machine Learning for Trading', 'School of Artificial Intelligence'],\n",
       " ['Software Analysis & Testing', 'School of Programming & Development'],\n",
       " ['Android Interview Prep', 'Career Advancement'],\n",
       " ['iOS Persistence and Core Data', 'School of Programming & Development'],\n",
       " ['Intro to Data Analysis', 'School of Data Science'],\n",
       " ['Computer Networking', 'School of Programming & Development'],\n",
       " ['Firebase Analytics: iOS', 'School of Programming & Development'],\n",
       " ['Human-Computer Interaction', 'School of Programming & Development'],\n",
       " ['2D Game Development with libGDX', 'School of Programming & Development'],\n",
       " ['Machine Learning', 'School of Artificial Intelligence'],\n",
       " ['Intro to jQuery', 'School of Programming & Development'],\n",
       " ['Intro to Hadoop and MapReduce', 'School of Artificial Intelligence'],\n",
       " ['Real-Time Analytics with Apache Storm',\n",
       "  'School of Artificial Intelligence'],\n",
       " ['Cyber-Physical Systems Security', 'School of Programming & Development'],\n",
       " ['Introduction to Graduate Algorithms',\n",
       "  'School of Programming & Development'],\n",
       " ['Dynamic Web Applications with Sinatra',\n",
       "  'School of Programming & Development'],\n",
       " ['How to Make a Platformer Using libGDX',\n",
       "  'School of Programming & Development'],\n",
       " ['A/B Testing', 'School of Artificial Intelligence'],\n",
       " ['JavaScript Testing', 'School of Programming & Development'],\n",
       " ['Object-Oriented JavaScript', 'School of Programming & Development'],\n",
       " ['Localization Essentials', 'School of Programming & Development'],\n",
       " ['Data Analysis with R', 'School of Artificial Intelligence'],\n",
       " ['Compilers: Theory and Practice', 'School of Programming & Development'],\n",
       " ['HTML5 Canvas', 'School of Programming & Development'],\n",
       " ['Knowledge-Based AI: Cognitive Systems',\n",
       "  'School of Artificial Intelligence'],\n",
       " ['Object Oriented Programming in Java',\n",
       "  'School of Programming & Development'],\n",
       " ['Designing RESTful APIs', 'School of Programming & Development'],\n",
       " ['GT - Refresher - Advanced OS', 'School of Programming & Development'],\n",
       " ['Intro to JavaScript', 'School of Programming & Development'],\n",
       " ['Grand Central Dispatch (GCD)', 'School of Programming & Development'],\n",
       " ['Swift for Beginners', 'School of Programming & Development'],\n",
       " ['A/B Testing for Business Analysts', 'School of Business'],\n",
       " ['Intro to Statistics', 'School of Programming & Development'],\n",
       " ['Introduction to TensorFlow Lite', 'School of Artificial Intelligence'],\n",
       " ['Intro to HTML and CSS', 'School of Programming & Development'],\n",
       " ['Developing Android Apps', 'School of Programming & Development'],\n",
       " ['Introduction to Computer Vision', 'School of Artificial Intelligence'],\n",
       " ['Introduction to Python Programming', 'School of Programming & Development'],\n",
       " ['Intro to TensorFlow for Deep Learning',\n",
       "  'School of Artificial Intelligence'],\n",
       " ['Introduction to Virtual Reality', 'School of Programming & Development'],\n",
       " ['Objective-C for Swift Developers', 'School of Programming & Development'],\n",
       " ['Software Testing', 'School of Programming & Development'],\n",
       " ['Interactive 3D Graphics', 'School of Programming & Development'],\n",
       " ['Full Stack Foundations', 'School of Programming & Development'],\n",
       " ['High Performance Computer Architecture',\n",
       "  'School of Programming & Development'],\n",
       " ['Machine Learning Interview Preparation', 'Career Advancement'],\n",
       " ['How to Build a Startup', 'School of Business'],\n",
       " ['AutoLayout', 'School of Programming & Development'],\n",
       " ['Kotlin Bootcamp for Programmers', 'School of Programming & Development'],\n",
       " ['Shell Workshop', 'School of Programming & Development'],\n",
       " ['Core ML: Machine Learning for iOS', 'School of Programming & Development'],\n",
       " ['Eigenvectors and Eigenvalues', 'School of Artificial Intelligence'],\n",
       " ['Statistics', 'School of Programming & Development'],\n",
       " ['Intro to Artificial Intelligence', 'School of Artificial Intelligence'],\n",
       " ['Intro to Theoretical Computer Science',\n",
       "  'School of Programming & Development'],\n",
       " ['Design of Computer Programs', 'School of Programming & Development'],\n",
       " ['Front-End Interview Prep', 'Career Advancement'],\n",
       " ['Data Wrangling with MongoDB', 'School of Programming & Development'],\n",
       " ['Full-Stack Interview Prep', 'Career Advancement'],\n",
       " ['Data Structures & Algorithms in Swift', 'Career Advancement'],\n",
       " ['Swift for Developers', 'School of Programming & Development'],\n",
       " ['Firebase in a Weekend: Android', 'School of Programming & Development'],\n",
       " ['Software Debugging', 'School of Programming & Development'],\n",
       " ['Deploying a Hadoop Cluster', 'School of Programming & Development'],\n",
       " ['Differential Equations in Action', 'School of Autonomous Systems'],\n",
       " ['Server-Side Swift', 'School of Programming & Development'],\n",
       " ['Programming Languages', 'School of Programming & Development'],\n",
       " ['SQL for Data Analysis', 'School of Data Science'],\n",
       " ['iOS Interview Prep', 'Career Advancement'],\n",
       " ['Artificial Intelligence for Robotics', 'School of Artificial Intelligence'],\n",
       " ['Networking for Web Developers', 'School of Programming & Development'],\n",
       " ['Database Systems Concepts & Design', 'School of Autonomous Systems'],\n",
       " ['Intro to Physics', 'School of Programming & Development'],\n",
       " ['Intro to Relational Databases', 'School of Programming & Development'],\n",
       " ['Self-Driving Fundamentals: Featuring Apollo',\n",
       "  'School of Autonomous Systems'],\n",
       " ['ES6 - JavaScript Improved', 'School of Programming & Development'],\n",
       " ['Mobile Design and Usability for iOS',\n",
       "  'School of Programming & Development'],\n",
       " ['Intro to AJAX', 'School of Programming & Development'],\n",
       " ['Intro to Algorithms', 'School of Programming & Development'],\n",
       " ['The MVC Pattern in Ruby', 'School of Programming & Development'],\n",
       " ['WeChat Mini Program Development', 'School of Programming & Development'],\n",
       " ['Refresh Your Resume', 'Career Advancement'],\n",
       " ['Intro to Inferential Statistics', 'School of Data Science'],\n",
       " ['Asynchronous JavaScript Requests', 'School of Programming & Development'],\n",
       " ['Intro to Deep Learning with PyTorch', 'School of Artificial Intelligence'],\n",
       " ['Embedded Systems', 'School of Programming & Development'],\n",
       " ['High Performance Computing', 'School of Programming & Development'],\n",
       " ['HTTP & Web Servers', 'School of Programming & Development'],\n",
       " ['Advanced Android with Kotlin', 'School of Programming & Development'],\n",
       " ['Computability, Complexity & Algorithms',\n",
       "  'School of Programming & Development'],\n",
       " ['Advanced Operating Systems', 'School of Programming & Development'],\n",
       " ['Passwordless Login Solutions for iOS',\n",
       "  'School of Programming & Development'],\n",
       " ['AWS DeepRacer', 'School of Artificial Intelligence'],\n",
       " ['Version Control with Git', 'School of Programming & Development'],\n",
       " ['Firebase in a Weekend: iOS', 'School of Programming & Development'],\n",
       " ['Intro to Point & Click App Development',\n",
       "  'School of Programming & Development'],\n",
       " ['Deploying Applications with Heroku', 'School of Programming & Development'],\n",
       " ['Applied Cryptography', 'School of Programming & Development'],\n",
       " ['Spark', 'School of Data Science'],\n",
       " ['VR Interview Prep', 'Career Advancement'],\n",
       " ['Java Programming Basics', 'School of Programming & Development'],\n",
       " ['C++ For Programmers', 'School of Programming & Development'],\n",
       " ['Data Analysis and Visualization', 'School of Data Science'],\n",
       " ['Intro to Backend', 'School of Programming & Development'],\n",
       " ['Network Security', 'School of Programming & Development'],\n",
       " ['JavaScript and the DOM', 'School of Programming & Development'],\n",
       " ['Firebase Analytics: Android', 'School of Programming & Development'],\n",
       " ['Reinforcement Learning', 'School of Artificial Intelligence'],\n",
       " ['Configuring Linux Web Servers', 'School of Programming & Development'],\n",
       " ['How to Make an iOS App', 'School of Programming & Development'],\n",
       " ['Intro to DevOps', 'School of Programming & Development'],\n",
       " ['Strengthen Your LinkedIn Network & Brand', 'Career Advancement'],\n",
       " ['Google Maps APIs', 'School of Programming & Development'],\n",
       " ['Passwordless Login Solutions for Android',\n",
       "  'School of Programming & Development'],\n",
       " ['Mobile Design and Usability for Android',\n",
       "  'School of Programming & Development'],\n",
       " ['Intro to Psychology', 'School of Programming & Development'],\n",
       " ['Engagement & Monetization | Mobile Games',\n",
       "  'School of Programming & Development'],\n",
       " ['Get Your Startup Started', 'School of Business'],\n",
       " ['Introduction to Machine Learning Course',\n",
       "  'School of Artificial Intelligence'],\n",
       " ['Material Design for Android Developers',\n",
       "  'School of Programming & Development'],\n",
       " ['Managing Remote Teams with Upwork', 'School of Business'],\n",
       " ['Product Manager Interview Preparation', 'Career Advancement']]"
      ]
     },
     "execution_count": 12,
     "metadata": {},
     "output_type": "execute_result"
    }
   ],
   "source": [
    "courses = []\n",
    "for summary in summaries:\n",
    "    # append name and school of each summary to courses list\n",
    "    title = summary.select_one(\"h2\").get_text().strip()\n",
    "    school = summary.select_one(\"h3\").get_text().strip()\n",
    "    courses.append([title,school]) # (title,school)\n",
    "courses"
   ]
  },
  {
   "cell_type": "code",
   "execution_count": 13,
   "metadata": {},
   "outputs": [
    {
     "name": "stdout",
     "output_type": "stream",
     "text": [
      "247 course summaries found. Sample:\n"
     ]
    },
    {
     "data": {
      "text/plain": [
       "[['Data Engineer', 'School of Data Science'],\n",
       " ['Data Analyst', 'School of Data Science'],\n",
       " ['Introduction to Programming', 'School of Programming & Development'],\n",
       " ['Deep Learning', 'School of Artificial Intelligence'],\n",
       " ['Full Stack Web Developer', 'School of Programming & Development'],\n",
       " ['UX Designer', 'School of Business'],\n",
       " ['Data Scientist', 'School of Data Science'],\n",
       " ['Business Analytics', 'School of Business'],\n",
       " ['Self Driving Car Engineer', 'School of Autonomous Systems'],\n",
       " ['Programming for Data Science with Python', 'School of Data Science'],\n",
       " ['Machine Learning Engineer', 'School of Artificial Intelligence'],\n",
       " ['C++', 'School of Autonomous Systems'],\n",
       " ['Digital Marketing', 'School of Business'],\n",
       " ['SQL', 'School of Data Science'],\n",
       " ['AI Programming with Python', 'School of Artificial Intelligence'],\n",
       " ['Front End Web Developer', 'School of Programming & Development'],\n",
       " ['AI Product Manager', 'School of Artificial Intelligence'],\n",
       " ['Cloud DevOps Engineer', 'School of Cloud Computing'],\n",
       " ['Artificial Intelligence for Trading', 'School of Artificial Intelligence'],\n",
       " ['DevOps Engineer for Microsoft Azure', 'School of Cloud Computing']]"
      ]
     },
     "execution_count": 13,
     "metadata": {},
     "output_type": "execute_result"
    }
   ],
   "source": [
    "# display results\n",
    "print(len(courses), \"course summaries found. Sample:\")\n",
    "courses[:20]"
   ]
  },
  {
   "cell_type": "code",
   "execution_count": 14,
   "metadata": {},
   "outputs": [
    {
     "name": "stdout",
     "output_type": "stream",
     "text": [
      "247 course summaries found. Sample:\n"
     ]
    },
    {
     "data": {
      "text/plain": [
       "[['Data Engineer', 'School of Data Science'],\n",
       " ['Data Analyst', 'School of Data Science'],\n",
       " ['Introduction to Programming', 'School of Programming & Development'],\n",
       " ['Deep Learning', 'School of Artificial Intelligence'],\n",
       " ['Full Stack Web Developer', 'School of Programming & Development'],\n",
       " ['UX Designer', 'School of Business'],\n",
       " ['Data Scientist', 'School of Data Science'],\n",
       " ['Business Analytics', 'School of Business'],\n",
       " ['Self Driving Car Engineer', 'School of Autonomous Systems'],\n",
       " ['Programming for Data Science with Python', 'School of Data Science'],\n",
       " ['Machine Learning Engineer', 'School of Artificial Intelligence'],\n",
       " ['C++', 'School of Autonomous Systems'],\n",
       " ['Digital Marketing', 'School of Business'],\n",
       " ['SQL', 'School of Data Science'],\n",
       " ['AI Programming with Python', 'School of Artificial Intelligence'],\n",
       " ['Front End Web Developer', 'School of Programming & Development'],\n",
       " ['AI Product Manager', 'School of Artificial Intelligence'],\n",
       " ['Cloud DevOps Engineer', 'School of Cloud Computing'],\n",
       " ['Artificial Intelligence for Trading', 'School of Artificial Intelligence'],\n",
       " ['DevOps Engineer for Microsoft Azure', 'School of Cloud Computing']]"
      ]
     },
     "execution_count": 14,
     "metadata": {},
     "output_type": "execute_result"
    }
   ],
   "source": [
    "# display results\n",
    "print(len(courses), \"course summaries found. Sample:\")\n",
    "courses[:20]"
   ]
  },
  {
   "cell_type": "code",
   "execution_count": null,
   "metadata": {},
   "outputs": [],
   "source": []
  }
 ],
 "metadata": {
  "kernelspec": {
   "display_name": "Python 3",
   "language": "python",
   "name": "python3"
  },
  "language_info": {
   "codemirror_mode": {
    "name": "ipython",
    "version": 3
   },
   "file_extension": ".py",
   "mimetype": "text/x-python",
   "name": "python",
   "nbconvert_exporter": "python",
   "pygments_lexer": "ipython3",
   "version": "3.7.9"
  },
  "toc": {
   "base_numbering": 1,
   "nav_menu": {},
   "number_sections": true,
   "sideBar": true,
   "skip_h1_title": false,
   "title_cell": "Table of Contents",
   "title_sidebar": "Contents",
   "toc_cell": true,
   "toc_position": {},
   "toc_section_display": true,
   "toc_window_display": false
  }
 },
 "nbformat": 4,
 "nbformat_minor": 4
}
