{
 "cells": [
  {
   "cell_type": "markdown",
   "metadata": {
    "toc": true
   },
   "source": [
    "<h1>Table of Contents<span class=\"tocSkip\"></span></h1>\n",
    "<div class=\"toc\"><ul class=\"toc-item\"><li><span><a href=\"#OOP-Syntax-Exercise---Part-2\" data-toc-modified-id=\"OOP-Syntax-Exercise---Part-2-1\"><span class=\"toc-item-num\">1&nbsp;&nbsp;</span>OOP Syntax Exercise - Part 2</a></span></li><li><span><a href=\"#Pants-class\" data-toc-modified-id=\"Pants-class-2\"><span class=\"toc-item-num\">2&nbsp;&nbsp;</span>Pants class</a></span></li><li><span><a href=\"#Run-the-code-cell-below-to-check-results\" data-toc-modified-id=\"Run-the-code-cell-below-to-check-results-3\"><span class=\"toc-item-num\">3&nbsp;&nbsp;</span>Run the code cell below to check results</a></span></li><li><span><a href=\"#SalesPerson-class\" data-toc-modified-id=\"SalesPerson-class-4\"><span class=\"toc-item-num\">4&nbsp;&nbsp;</span>SalesPerson class</a></span></li><li><span><a href=\"#Run-the-code-cell-below-to-check-results\" data-toc-modified-id=\"Run-the-code-cell-below-to-check-results-5\"><span class=\"toc-item-num\">5&nbsp;&nbsp;</span>Run the code cell below to check results</a></span><ul class=\"toc-item\"><li><ul class=\"toc-item\"><li><span><a href=\"#Check-display_sales()-method\" data-toc-modified-id=\"Check-display_sales()-method-5.0.1\"><span class=\"toc-item-num\">5.0.1&nbsp;&nbsp;</span>Check display_sales() method</a></span></li></ul></li></ul></li><li><span><a href=\"#Solution\" data-toc-modified-id=\"Solution-6\"><span class=\"toc-item-num\">6&nbsp;&nbsp;</span>Solution</a></span></li></ul></div>"
   ]
  },
  {
   "cell_type": "markdown",
   "metadata": {},
   "source": [
    "# OOP Syntax Exercise - Part 2\n",
    "\n",
    "Now that you've had some practice instantiating objects, it's time to write your own class from scratch. This lesson has two parts. In the first part, you'll write a Pants class. This class is similar to the shirt class with a couple of changes. Then you'll practice instantiating Pants objects\n",
    "\n",
    "In the second part, you'll write another class called SalesPerson. You'll also instantiate objects for the SalesPerson.\n",
    "\n",
    "For this exercise, you can do all of your work in this Jupyter notebook. You will not need to import the class because all of your code will be in this Jupyter notebook.\n",
    "\n",
    "Answers are also provided. If you click on the Jupyter icon, you can open a folder called 2.OOP_syntax_pants_practice, which contains this Jupyter notebook ('exercise.ipynb') and a file called answer.py."
   ]
  },
  {
   "cell_type": "markdown",
   "metadata": {},
   "source": [
    "# Pants class\n",
    "\n",
    "Write a Pants class with the following characteristics:\n",
    "* the class name should be Pants\n",
    "* the class attributes should include\n",
    " * color\n",
    " * waist_size\n",
    " * length\n",
    " * price\n",
    "* the class should have an init function that initializes all of the attributes\n",
    "* the class should have two methods\n",
    " * change_price() a method to change the price attribute\n",
    " * discount() to calculate a discount"
   ]
  },
  {
   "cell_type": "code",
   "execution_count": 3,
   "metadata": {},
   "outputs": [],
   "source": [
    "### TODO:\n",
    "#   - code a Pants class with the following attributes\n",
    "#   - color (string) eg 'red', 'yellow', 'orange'\n",
    "#   - waist_size (integer) eg 8, 9, 10, 32, 33, 34\n",
    "#   - length (integer) eg 27, 28, 29, 30, 31\n",
    "#   - price (float) eg 9.28\n",
    "\n",
    "### TODO: Declare the Pants Class\n",
    "class Pants():\n",
    "    \n",
    "    def __init__(self,color,waist_size,length,price):\n",
    "        self.color = color\n",
    "        self.waist_size = waist_size\n",
    "        self.length = length\n",
    "        self.price = price\n",
    "    \n",
    "    def change_price(self,new_price):\n",
    "        self.price = new_price\n",
    "    \n",
    "    def discount(self,percentage):\n",
    "        return self.price * (1 - percentage)\n",
    "\n",
    "\n",
    "### TODO: write a change_price method:\n",
    "#    Args:\n",
    "#        new_price (float): the new price of the shirt\n",
    "#    Returns:\n",
    "#        None\n",
    "\n",
    "### TODO: write a discount method:\n",
    "#    Args:\n",
    "#        discount (float): a decimal value for the discount. \n",
    "#            For example 0.05 for a 5% discount.\n",
    "#\n",
    "#    Returns:\n",
    "#        float: the discounted price"
   ]
  },
  {
   "cell_type": "markdown",
   "metadata": {},
   "source": [
    "# Run the code cell below to check results\n",
    "\n",
    "If you run the next code cell and get an error, then revise your code until the code cell doesn't output anything."
   ]
  },
  {
   "cell_type": "code",
   "execution_count": 4,
   "metadata": {},
   "outputs": [
    {
     "name": "stdout",
     "output_type": "stream",
     "text": [
      "You made it to the end of the check. Nice job!\n"
     ]
    }
   ],
   "source": [
    "def check_results():\n",
    "    pants = Pants('red', 35, 36, 15.12)\n",
    "    assert pants.color == 'red'\n",
    "    assert pants.waist_size == 35\n",
    "    assert pants.length == 36\n",
    "    assert pants.price == 15.12\n",
    "    \n",
    "    pants.change_price(10) == 10\n",
    "    assert pants.price == 10 \n",
    "    \n",
    "    assert pants.discount(.1) == 9\n",
    "    \n",
    "    print('You made it to the end of the check. Nice job!')\n",
    "\n",
    "check_results()"
   ]
  },
  {
   "cell_type": "markdown",
   "metadata": {},
   "source": [
    "# SalesPerson class\n",
    "\n",
    "The Pants class and Shirt class are quite similar. Here is an exercise to give you more practice writing a class. **This exercise is trickier than the previous exercises.**\n",
    "\n",
    "Write a SalesPerson class with the following characteristics:\n",
    "* the class name should be SalesPerson\n",
    "* the class attributes should include\n",
    " * first_name \n",
    " * last_name\n",
    " * employee_id\n",
    " * salary\n",
    " * pants_sold\n",
    " * total_sales\n",
    "* the class should have an init function that initializes all of the attributes\n",
    "* the class should have four methods\n",
    " * sell_pants() a method to change the price attribute\n",
    " * calculate_sales() a method to calculate the sales\n",
    " * display_sales() a method to print out all the pants sold with nice formatting\n",
    " * calculate_commission() a method to calculate the salesperson commission based on total sales and a percentage"
   ]
  },
  {
   "cell_type": "code",
   "execution_count": 5,
   "metadata": {},
   "outputs": [],
   "source": [
    "### TODO:\n",
    "class SalesPerson():\n",
    "    \n",
    "    def __init__(self,first_name,last_name,employee_id,salary):\n",
    "        self.first_name = first_name\n",
    "        self.last_name = last_name\n",
    "        self.employee_id = employee_id\n",
    "        self.salary = salary\n",
    "        self.pants_sold = []\n",
    "        self.total_sales = 0\n",
    "        \n",
    "    def sell_pants(self,pants):\n",
    "        self.pants_sold.append(pants)\n",
    "        \n",
    "    def display_sales(self):\n",
    "        for pants in self.pants_sold:\n",
    "            print('color: {}, waist_size: {}, length: {}, price: {}'\\\n",
    "                  .format(pants.color, pants.waist_size, pants.length, pants.price))\n",
    "    \n",
    "    def calculate_sales(self):\n",
    "        total = 0\n",
    "        for pants in self.pants_sold:\n",
    "            total += pants.price\n",
    "        self.total_sales = total\n",
    "        return total\n",
    "    \n",
    "    def calculate_commission(self,perc):\n",
    "        sales_total = self.calculate_sales()\n",
    "        return sales_total * perc"
   ]
  },
  {
   "cell_type": "markdown",
   "metadata": {},
   "source": [
    "# Run the code cell below to check results\n",
    "\n",
    "If you run the next code cell and get an error, then revise your code until the code cell doesn't output anything."
   ]
  },
  {
   "cell_type": "code",
   "execution_count": 6,
   "metadata": {},
   "outputs": [
    {
     "name": "stdout",
     "output_type": "stream",
     "text": [
      "Great job, you made it to the end of the code checks!\n"
     ]
    }
   ],
   "source": [
    "def check_results():\n",
    "    pants_one = Pants('red', 35, 36, 15.12)\n",
    "    pants_two = Pants('blue', 40, 38, 24.12)\n",
    "    pants_three = Pants('tan', 28, 30, 8.12)\n",
    "    \n",
    "    salesperson = SalesPerson('Amy', 'Gonzalez', 2581923, 40000)\n",
    "    \n",
    "    assert salesperson.first_name == 'Amy'\n",
    "    assert salesperson.last_name == 'Gonzalez'\n",
    "    assert salesperson.employee_id == 2581923\n",
    "    assert salesperson.salary == 40000\n",
    "    assert salesperson.pants_sold == []\n",
    "    assert salesperson.total_sales == 0\n",
    "    \n",
    "    salesperson.sell_pants(pants_one)\n",
    "    salesperson.pants_sold[0] == pants_one.color\n",
    "    \n",
    "    salesperson.sell_pants(pants_two)\n",
    "    salesperson.sell_pants(pants_three)\n",
    "    \n",
    "    assert len(salesperson.pants_sold) == 3\n",
    "    assert round(salesperson.calculate_sales(),2) == 47.36\n",
    "    assert round(salesperson.calculate_commission(.1),2) == 4.74\n",
    "    \n",
    "    print('Great job, you made it to the end of the code checks!')\n",
    "    \n",
    "check_results()"
   ]
  },
  {
   "cell_type": "markdown",
   "metadata": {},
   "source": [
    "### Check display_sales() method\n",
    "\n",
    "If you run the code cell below, you should get output similar to this:\n",
    "\n",
    "```python\n",
    "color: red, waist_size: 35, length: 36, price: 15.12\n",
    "color: blue, waist_size: 40, length: 38, price: 24.12\n",
    "color: tan, waist_size: 28, length: 30, price: 8.12\n",
    "```"
   ]
  },
  {
   "cell_type": "code",
   "execution_count": 7,
   "metadata": {},
   "outputs": [
    {
     "name": "stdout",
     "output_type": "stream",
     "text": [
      "color: red, waist_size: 35, length: 36, price: 15.12\n",
      "color: blue, waist_size: 40, length: 38, price: 24.12\n",
      "color: tan, waist_size: 28, length: 30, price: 8.12\n"
     ]
    }
   ],
   "source": [
    "pants_one = Pants('red', 35, 36, 15.12)\n",
    "pants_two = Pants('blue', 40, 38, 24.12)\n",
    "pants_three = Pants('tan', 28, 30, 8.12)\n",
    "\n",
    "salesperson = SalesPerson('Amy', 'Gonzalez', 2581923, 40000)\n",
    "\n",
    "salesperson.sell_pants(pants_one)    \n",
    "salesperson.sell_pants(pants_two)\n",
    "salesperson.sell_pants(pants_three)\n",
    "\n",
    "salesperson.display_sales()"
   ]
  },
  {
   "cell_type": "markdown",
   "metadata": {},
   "source": [
    "# Solution \n",
    "\n",
    "As a reminder, answers are also provided. If you click on the Jupyter icon, you can open a folder called 2.OOP_syntax_pants_practice, which contains this Jupyter notebook and a file called answer.py."
   ]
  }
 ],
 "metadata": {
  "kernelspec": {
   "display_name": "Python 3",
   "language": "python",
   "name": "python3"
  },
  "language_info": {
   "codemirror_mode": {
    "name": "ipython",
    "version": 3
   },
   "file_extension": ".py",
   "mimetype": "text/x-python",
   "name": "python",
   "nbconvert_exporter": "python",
   "pygments_lexer": "ipython3",
   "version": "3.7.6"
  },
  "toc": {
   "base_numbering": 1,
   "nav_menu": {},
   "number_sections": true,
   "sideBar": true,
   "skip_h1_title": false,
   "title_cell": "Table of Contents",
   "title_sidebar": "Contents",
   "toc_cell": true,
   "toc_position": {},
   "toc_section_display": true,
   "toc_window_display": false
  }
 },
 "nbformat": 4,
 "nbformat_minor": 2
}
