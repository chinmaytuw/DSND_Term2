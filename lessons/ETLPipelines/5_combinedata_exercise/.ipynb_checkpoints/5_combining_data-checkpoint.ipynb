{
 "cells": [
  {
   "cell_type": "markdown",
   "metadata": {
    "toc": true
   },
   "source": [
    "<h1>Table of Contents<span class=\"tocSkip\"></span></h1>\n",
    "<div class=\"toc\"><ul class=\"toc-item\"><li><span><a href=\"#Combining-Data\" data-toc-modified-id=\"Combining-Data-1\"><span class=\"toc-item-num\">1&nbsp;&nbsp;</span>Combining Data</a></span></li><li><span><a href=\"#Exercise-1\" data-toc-modified-id=\"Exercise-1-2\"><span class=\"toc-item-num\">2&nbsp;&nbsp;</span>Exercise 1</a></span></li><li><span><a href=\"#Exercise-2-(Challenge)\" data-toc-modified-id=\"Exercise-2-(Challenge)-3\"><span class=\"toc-item-num\">3&nbsp;&nbsp;</span>Exercise 2 (Challenge)</a></span></li></ul></div>"
   ]
  },
  {
   "cell_type": "markdown",
   "metadata": {},
   "source": [
    "# Combining Data\n",
    "\n",
    "Practice combining data from two different data sets. In the same folder as this Jupyter notebook, there are two csv files:\n",
    "* rural_population_percent.csv\n",
    "* electricity_access_percent.csv\n",
    "\n",
    "They both come from the World Bank Indicators data. \n",
    "* https://data.worldbank.org/indicator/SP.RUR.TOTL.ZS\n",
    "* https://data.worldbank.org/indicator/EG.ELC.ACCS.ZS\n",
    "\n",
    "The rural populaton data represents the percent of a country's population that is rural over time. The electricity access data shows the percentage of people with access to electricity.\n",
    "\n",
    "In this exercise, you will combine these two data sets together into one pandas data frame."
   ]
  },
  {
   "cell_type": "markdown",
   "metadata": {},
   "source": [
    "# Exercise 1\n",
    "\n",
    "Combine the two data sets using the [pandas concat method](https://pandas.pydata.org/pandas-docs/stable/merging.html). In other words, find the union of the two data sets."
   ]
  },
  {
   "cell_type": "code",
   "execution_count": 1,
   "metadata": {},
   "outputs": [],
   "source": [
    "# TODO: import the pandas library\n",
    "import pandas as pd\n",
    "# TODO: read in each csv file into a separate variable\n",
    "# HINT: remember from the Extract material that these csv file have some formatting issues\n",
    "# HINT: The file paths are 'rural_population_percent.csv' and 'electricity_access_percent.csv'\n",
    "df_rural = pd.read_csv('rural_population_percent.csv', skiprows=4)\n",
    "df_electricity = pd.read_csv('electricity_access_percent.csv', skiprows=4)\n",
    "\n",
    "# TODO: remove the 'Unnamed:62' column from each data set\n",
    "df_rural.drop(['Unnamed: 62'],axis=1,inplace=True)\n",
    "df_electricity.drop('Unnamed: 62',inplace=True,axis=1)\n",
    "\n",
    "# TODO: combine the two data sets together using the concat method\n",
    "combine_df = pd.concat([df_rural,df_electricity])\n",
    "# In other words, all of the rows of df_rural will come first\n",
    "# followed by all the rows in df_electricity. This is possible to do\n",
    "# because they both have the same column names."
   ]
  },
  {
   "cell_type": "markdown",
   "metadata": {},
   "source": [
    "# Exercise 2 (Challenge)\n",
    "\n",
    "This exercise is more challenging.\n",
    "\n",
    "The resulting data frame should look like this:\n",
    "\n",
    "|Country Name|Country Code|Year|Rural_Value|Electricity_Value|\n",
    "|--|--|--|--|--|--|\n",
    "|Aruba|ABW|1960|49.224|49.239|\n",
    "... etc.\n",
    "\n",
    "Order the results in the dataframe by country and then by year\n",
    "\n",
    "Here are a few pandas methods that should be helpful:\n",
    "* [melt](http://pandas.pydata.org/pandas-docs/stable/generated/pandas.melt.html)\n",
    "* [drop](https://pandas.pydata.org/pandas-docs/stable/generated/pandas.DataFrame.drop.html)\n",
    "* [merge](https://pandas.pydata.org/pandas-docs/version/0.23/generated/pandas.DataFrame.merge.html)\n",
    "* [sort_values](https://pandas.pydata.org/pandas-docs/stable/generated/pandas.DataFrame.sort_values.html)\n",
    "\n",
    "HINT: You can use country name, country code, and the year as common keys between the data sets"
   ]
  },
  {
   "cell_type": "code",
   "execution_count": 2,
   "metadata": {},
   "outputs": [],
   "source": [
    "melt_rural_vals = df_rural.columns[4:].tolist()\n",
    "melt_rural_ids = df_rural.columns[:4].tolist()\n",
    "\n",
    "melt_elec_vals = df_electricity.columns[4:].tolist()\n",
    "melt_elec_ids = df_electricity.columns[:4].tolist()\n",
    "\n",
    "drop_cols = ['Indicator Name', 'Indicator Code']\n",
    "\n",
    "rural_df_melt = pd.melt(df_rural,\n",
    "                        id_vars = melt_rural_ids,\n",
    "                        value_vars = melt_rural_vals,\n",
    "                        var_name = 'Year',\n",
    "                        value_name ='Rural Value').drop(drop_cols,axis=1)\n",
    "\n",
    "electricity_df_melt = pd.melt(df_electricity,\n",
    "                        id_vars = melt_elec_ids,\n",
    "                        value_vars = melt_elec_vals,\n",
    "                        var_name = 'Year',\n",
    "                        value_name ='Electricity Value').drop(drop_cols,axis=1)\n",
    "\n",
    "df_combined = rural_df_melt.merge(electricity_df_melt, how='outer',\\\n",
    "                                 on=['Country Name', 'Country Code', 'Year']).sort_values(['Country Name','Year']).reset_index(drop=True)\n"
   ]
  },
  {
   "cell_type": "code",
   "execution_count": 3,
   "metadata": {},
   "outputs": [
    {
     "data": {
      "text/html": [
       "<div>\n",
       "<style scoped>\n",
       "    .dataframe tbody tr th:only-of-type {\n",
       "        vertical-align: middle;\n",
       "    }\n",
       "\n",
       "    .dataframe tbody tr th {\n",
       "        vertical-align: top;\n",
       "    }\n",
       "\n",
       "    .dataframe thead th {\n",
       "        text-align: right;\n",
       "    }\n",
       "</style>\n",
       "<table border=\"1\" class=\"dataframe\">\n",
       "  <thead>\n",
       "    <tr style=\"text-align: right;\">\n",
       "      <th></th>\n",
       "      <th>Country Name</th>\n",
       "      <th>Country Code</th>\n",
       "      <th>Year</th>\n",
       "      <th>Rural Value</th>\n",
       "      <th>Electricity Value</th>\n",
       "    </tr>\n",
       "  </thead>\n",
       "  <tbody>\n",
       "    <tr>\n",
       "      <th>0</th>\n",
       "      <td>Afghanistan</td>\n",
       "      <td>AFG</td>\n",
       "      <td>1960</td>\n",
       "      <td>91.779</td>\n",
       "      <td>NaN</td>\n",
       "    </tr>\n",
       "    <tr>\n",
       "      <th>1</th>\n",
       "      <td>Afghanistan</td>\n",
       "      <td>AFG</td>\n",
       "      <td>1961</td>\n",
       "      <td>91.492</td>\n",
       "      <td>NaN</td>\n",
       "    </tr>\n",
       "    <tr>\n",
       "      <th>2</th>\n",
       "      <td>Afghanistan</td>\n",
       "      <td>AFG</td>\n",
       "      <td>1962</td>\n",
       "      <td>91.195</td>\n",
       "      <td>NaN</td>\n",
       "    </tr>\n",
       "    <tr>\n",
       "      <th>3</th>\n",
       "      <td>Afghanistan</td>\n",
       "      <td>AFG</td>\n",
       "      <td>1963</td>\n",
       "      <td>90.890</td>\n",
       "      <td>NaN</td>\n",
       "    </tr>\n",
       "    <tr>\n",
       "      <th>4</th>\n",
       "      <td>Afghanistan</td>\n",
       "      <td>AFG</td>\n",
       "      <td>1964</td>\n",
       "      <td>90.574</td>\n",
       "      <td>NaN</td>\n",
       "    </tr>\n",
       "  </tbody>\n",
       "</table>\n",
       "</div>"
      ],
      "text/plain": [
       "  Country Name Country Code  Year  Rural Value  Electricity Value\n",
       "0  Afghanistan          AFG  1960       91.779                NaN\n",
       "1  Afghanistan          AFG  1961       91.492                NaN\n",
       "2  Afghanistan          AFG  1962       91.195                NaN\n",
       "3  Afghanistan          AFG  1963       90.890                NaN\n",
       "4  Afghanistan          AFG  1964       90.574                NaN"
      ]
     },
     "execution_count": 3,
     "metadata": {},
     "output_type": "execute_result"
    }
   ],
   "source": [
    "df_combined.head()"
   ]
  },
  {
   "cell_type": "code",
   "execution_count": 4,
   "metadata": {},
   "outputs": [],
   "source": [
    "# TODO: merge the data sets together according to the instructions. First, use the \n",
    "# melt method to change the formatting of each data frame so that it looks like this:\n",
    "# Country Name, Country Code, Year, Rural Value\n",
    "# Country Name, Country Code, Year, Electricity Value\n",
    "\n",
    "# TODO: drop any columns from the data frames that aren't needed\n",
    "\n",
    "# TODO: merge the data frames together based on their common columns\n",
    "# in this case, the common columns are Country Name, Country Code, and Year\n",
    "\n",
    "# TODO: sort the results by country and then by year\n",
    "\n",
    "df_combined = None"
   ]
  }
 ],
 "metadata": {
  "kernelspec": {
   "display_name": "Python 3",
   "language": "python",
   "name": "python3"
  },
  "language_info": {
   "codemirror_mode": {
    "name": "ipython",
    "version": 3
   },
   "file_extension": ".py",
   "mimetype": "text/x-python",
   "name": "python",
   "nbconvert_exporter": "python",
   "pygments_lexer": "ipython3",
   "version": "3.7.9"
  },
  "toc": {
   "base_numbering": 1,
   "nav_menu": {},
   "number_sections": true,
   "sideBar": true,
   "skip_h1_title": false,
   "title_cell": "Table of Contents",
   "title_sidebar": "Contents",
   "toc_cell": true,
   "toc_position": {},
   "toc_section_display": true,
   "toc_window_display": false
  }
 },
 "nbformat": 4,
 "nbformat_minor": 2
}
